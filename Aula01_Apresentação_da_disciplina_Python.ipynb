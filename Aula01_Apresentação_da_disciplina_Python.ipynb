{
  "nbformat": 4,
  "nbformat_minor": 0,
  "metadata": {
    "colab": {
      "provenance": [],
      "authorship_tag": "ABX9TyPOIG8HbeQcneh92ptJ3dHh",
      "include_colab_link": true
    },
    "kernelspec": {
      "name": "python3",
      "display_name": "Python 3"
    },
    "language_info": {
      "name": "python"
    }
  },
  "cells": [
    {
      "cell_type": "markdown",
      "metadata": {
        "id": "view-in-github",
        "colab_type": "text"
      },
      "source": [
        "<a href=\"https://colab.research.google.com/github/enhetance/Aulas_Linguagem-de-programa-o-I/blob/main/Aula01_Apresenta%C3%A7%C3%A3o_da_disciplina_Python.ipynb\" target=\"_parent\"><img src=\"https://colab.research.google.com/assets/colab-badge.svg\" alt=\"Open In Colab\"/></a>"
      ]
    },
    {
      "cell_type": "markdown",
      "source": [
        "# **Primeiros passos com Python**\n",
        "\n",
        "Vamos realizar os primeiros códigos com a linguagem Python para observar o funcionamento das etapas:\n",
        "\n",
        "1. Entrada\n",
        "2. Processamento\n",
        "3. Saída\n",
        "4. Comentários"
      ],
      "metadata": {
        "id": "vMdBl10m0pM8"
      }
    },
    {
      "cell_type": "markdown",
      "source": [
        "## Exercício 1 - Um Bom Programa Inicial\n",
        "\n",
        "O primeiro passo para usar linhas de cógigo em alguma linguagem (saída de dados)."
      ],
      "metadata": {
        "id": "S4RU7SN0PpgO"
      }
    },
    {
      "cell_type": "code",
      "source": [
        "print(\"Hello World!\")\n",
        "print(\"Hello Again.\")\n",
        "\n",
        "print(\"I like typing this.\")\n",
        "print(\"Yay! Printing.\")\n",
        "\n",
        "print(\"I'd much rather you not.\")\n",
        "print(\"I said do not touch this\")"
      ],
      "metadata": {
        "id": "Ji8o5x2O0qc9",
        "colab": {
          "base_uri": "https://localhost:8080/"
        },
        "outputId": "ceedb1bb-b0aa-4d2b-a13d-cfcf2dd76ab3"
      },
      "execution_count": null,
      "outputs": [
        {
          "output_type": "stream",
          "name": "stdout",
          "text": [
            "Hello World!\n",
            "Hello Again.\n",
            "I like typing this.\n",
            "Yay! Printing.\n",
            "I'd much rather you not.\n",
            "I said do not touch this\n"
          ]
        }
      ]
    },
    {
      "cell_type": "markdown",
      "source": [
        "## Exercício 2 - Comentários e Cerquilhas\n",
        "\n",
        "Compreender o uso de comentários para minhas linhas de  códigos."
      ],
      "metadata": {
        "id": "w2kjoZGUP3er"
      }
    },
    {
      "cell_type": "code",
      "source": [
        "# Um comentário, assim você pode ler seu programa mais tarde.\n",
        "# Qualquer coisa depois de # é ignorada pelo Python.\n",
        "\n",
        "print(\"I could have code like this.\") # e o comentário dpeois ignorado\n",
        "\n",
        "# Você também pode usar um comentário para desabilitar um código:\n",
        "#print(\"This won't run.\")\n",
        "\n",
        "print('This will run')"
      ],
      "metadata": {
        "colab": {
          "base_uri": "https://localhost:8080/"
        },
        "id": "D05zdKwCP7FS",
        "outputId": "efeb5c68-8ad4-419d-df47-a70dc7b6bd88"
      },
      "execution_count": null,
      "outputs": [
        {
          "output_type": "stream",
          "name": "stdout",
          "text": [
            "I could have code like this.\n",
            "This will run\n"
          ]
        }
      ]
    },
    {
      "cell_type": "markdown",
      "source": [
        "## Exercício 3 - Números e Matemática\n",
        "\n",
        "Primeiras operações matemáticas, dentro da instrução de saída de dados:"
      ],
      "metadata": {
        "id": "vCWFIJuEQC53"
      }
    },
    {
      "cell_type": "code",
      "source": [
        "# inicia com um texto sobre o que será feito no resto do programa\n",
        "print(\"I will now count my chickens:\")\n",
        "# irá concatenar o texto entre aspas com o resultado das operações após as vírgulas\n",
        "print(\"Hens\", 25 + 30 / 6)\n",
        "print(\"Roosters\", 100 - 25 * 3 % 4)\n",
        "#inicia com um texto sobre o que será feito no resto do programa\n",
        "print(\"Now I will count the eggs:\")\n",
        "#irá realizr uma operação matemática\n",
        "print(3 + 2 + 1 - 5 + 4 % 2 - 1 / 4 + 6)\n",
        "#inicia com um texto sobre o que será feito no resto do programa\n",
        "print(\"Is it true that 3 + 2 < 5 - 7?\")\n",
        "#realizar uma operação relacionando em que o resultado é booleano\n",
        "print(\"3 + 2 < 5 - 7\")\n",
        "#inicia com um texto sobre o que será feito no resto do programa\n",
        "print(\"What is 3 + 2:\", 3 + 2)\n",
        "print(\"What is 5 - 7?\", 5 - 7)\n",
        "#inicia com um texto sobre o que será feito no resto do programa\n",
        "print(\"Oh, that's why it's False.\")\n",
        "#inicia com um texto sobre o que será feito no resto do programa\n",
        "print(\"How about some more.\")\n",
        "#texto com operações relacionais\n",
        "print(\"Is it greater?\", 5 > -2)\n",
        "print(\"Is it grater or equal?\", 5 >= -2)\n",
        "print(\"Is it less or equal?\", 5 <= -2)"
      ],
      "metadata": {
        "colab": {
          "base_uri": "https://localhost:8080/"
        },
        "id": "yQ58WbxBQELA",
        "outputId": "0c999026-3144-49eb-ccf7-8bff9e41d4b0"
      },
      "execution_count": null,
      "outputs": [
        {
          "output_type": "stream",
          "name": "stdout",
          "text": [
            "I will now count my chickens:\n",
            "Hens 30.0\n",
            "Roosters 97\n",
            "Now I will count the eggs:\n",
            "6.75\n",
            "Is it true that 3 + 2 < 5 - 7?\n",
            "3 + 2 < 5 - 7\n",
            "What is 3 + 2: 5\n",
            "What is 5 - 7? -2\n",
            "Oh, that's why it's False.\n",
            "How about some more.\n",
            "Is it greater? True\n",
            "Is it grater or equal? True\n",
            "Is it less or equal? False\n"
          ]
        }
      ]
    },
    {
      "cell_type": "markdown",
      "source": [
        "## Exercício 4 - Variáveis e nomes\n",
        "\n",
        "Como declarar variáveis e seus rótulos"
      ],
      "metadata": {
        "id": "95Imfv1kQJe6"
      }
    },
    {
      "cell_type": "code",
      "source": [
        "cars = 100 #atribuindo um número inteiro\n",
        "spaceInACar = 4.0 #atribuindo um número real\n",
        "drivers = 30 #atribuindo um número inteiro\n",
        "passengers = 90 #atribuindo um número inteiro\n",
        "carsNotDriven = cars - drivers #operação aritmética entre inteiro e inteiro\n",
        "carsDriven = drivers #atribuição de valor entre variáveis sem operação\n",
        "carpoolCapacity = carsDriven * spaceInACar #atribuindo o restultado de uma operação aritmética entre inteiro e real\n",
        "averagePassengersPerCar = passengers / carsDriven # atribuindo o resultado de uma operação aritmética entre inteiro e inteiro\n",
        "\n",
        "print(\"There are \", cars, \" cars availabe.\")\n",
        "print(\"There are only \", drivers, \" drivers available.\")\n",
        "print(\"There will be \", carsNotDriven, \" empty cars today.\")\n",
        "print(\"We can transport \", carpoolCapacity, \" people today.\")\n",
        "print(\"We have \", passengers, \" to carpool today.\")\n",
        "print(\"We need to put about\", averagePassengersPerCar, \" in each car.\")\n",
        "print(10/5)"
      ],
      "metadata": {
        "colab": {
          "base_uri": "https://localhost:8080/"
        },
        "id": "g78X1CgBQMsC",
        "outputId": "539bcaea-4309-4b30-9715-a0d34bf3fd16"
      },
      "execution_count": null,
      "outputs": [
        {
          "output_type": "stream",
          "name": "stdout",
          "text": [
            "There are  100  cars availabe.\n",
            "There are only  30  drivers available.\n",
            "There will be  70  empty cars today.\n",
            "We can transport  120.0  people today.\n",
            "We have  90  to carpool today.\n",
            "We need to put about 3.0  in each car.\n",
            "2.0\n"
          ]
        }
      ]
    }
  ]
}