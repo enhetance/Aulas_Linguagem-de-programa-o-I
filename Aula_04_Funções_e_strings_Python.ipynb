{
  "nbformat": 4,
  "nbformat_minor": 0,
  "metadata": {
    "colab": {
      "provenance": [],
      "authorship_tag": "ABX9TyM5W9zkXOeddnc2NOzCrc3z",
      "include_colab_link": true
    },
    "kernelspec": {
      "name": "python3",
      "display_name": "Python 3"
    },
    "language_info": {
      "name": "python"
    }
  },
  "cells": [
    {
      "cell_type": "markdown",
      "metadata": {
        "id": "view-in-github",
        "colab_type": "text"
      },
      "source": [
        "<a href=\"https://colab.research.google.com/github/enhetance/Aulas_Linguagem-de-programa-o-I/blob/main/Aula_04_Fun%C3%A7%C3%B5es_e_strings_Python.ipynb\" target=\"_parent\"><img src=\"https://colab.research.google.com/assets/colab-badge.svg\" alt=\"Open In Colab\"/></a>"
      ]
    },
    {
      "cell_type": "markdown",
      "source": [
        "# **Aula 4 - Fundamentos da Linguagem Python**\n",
        "\n",
        "* Laços de repetição\n",
        "* Listas\n",
        "* Funções"
      ],
      "metadata": {
        "id": "fgLPqFzIZ7iN"
      }
    },
    {
      "cell_type": "markdown",
      "source": [
        "## EXERCÍCIO 16 - Loops e listas"
      ],
      "metadata": {
        "id": "mS3v-bSnahbk"
      }
    },
    {
      "cell_type": "code",
      "execution_count": null,
      "metadata": {
        "colab": {
          "base_uri": "https://localhost:8080/"
        },
        "id": "8Xzb8--VZ6Il",
        "outputId": "98c6a51a-34b4-4863-c5a2-694bd2994b8a"
      },
      "outputs": [
        {
          "output_type": "stream",
          "name": "stdout",
          "text": [
            "This is count 1\n",
            "This is count 2\n",
            "This is count 3\n",
            "This is count 4\n",
            "This is count 5\n",
            "A fruit of type: apples\n",
            "A fruit of type: oranges\n",
            "A fruit of type: pears\n",
            "A fruit of type: apricots\n",
            "I got 1\n",
            "I got pennies\n",
            "I got 2\n",
            "I got dimes\n",
            "I got 3\n",
            "I got quarters\n",
            "Adding 0 to the list.\n",
            "Adding 1 to the list.\n",
            "Adding 2 to the list.\n",
            "Adding 3 to the list.\n",
            "Adding 4 to the list.\n",
            "Adding 5 to the list.\n",
            "Element was: 0\n",
            "Element was: 1\n",
            "Element was: 2\n",
            "Element was: 3\n",
            "Element was: 4\n",
            "Element was: 5\n"
          ]
        }
      ],
      "source": [
        "the_count = [1, 2, 3, 4, 5] #cria lista the_count\n",
        "fruits = ['apples', 'oranges', 'pears', 'apricots'] #cria lista fruits\n",
        "change = [1, 'pennies', 2, 'dimes', 3, 'quarters'] #cria lista change\n",
        "\n",
        "for number in the_count: #para cada elemento dentro de the_count\n",
        "  print(f\"This is count {number}\") #imprime cada elemento\n",
        "\n",
        "for fruit in fruits: #para cada elemento dentro de fruits\n",
        "  print(f\"A fruit of type: {fruit}\") #imprime cada elemento\n",
        "\n",
        "for i in change: #para cada elemento dentro de change\n",
        "  print(f\"I got {i}\") #imprime cada elemento\n",
        "\n",
        "elements = [] #cria a lista elements\n",
        "\n",
        "for i in range(0, 6): #vai considerar 6 elementos, contando em números a partir do zero\n",
        "  print(f\"Adding {i} to the list.\") #imprime que adicionou os elementos a lista elements\n",
        "\n",
        "  elements.append(i) #essa linha é para de fato adicionar esses 5 elementos à lista element\n",
        "\n",
        "for i in elements: #busca o item dentro da lista elements\n",
        "  print(f\"Element was: {i}\") #imprime o item"
      ]
    },
    {
      "cell_type": "markdown",
      "source": [
        "### Novidades neste exercício\n",
        "\n",
        "*   Uso do For para trabalhar com as listas inteiras"
      ],
      "metadata": {
        "id": "ElzXHWyhc7LV"
      }
    },
    {
      "cell_type": "markdown",
      "source": [
        "## EXERCÍCIO 17 - Loops While"
      ],
      "metadata": {
        "id": "x3w5AI7Mc9qW"
      }
    },
    {
      "cell_type": "code",
      "source": [
        "i = 0 #deu o valor inicial do elemento (i)\n",
        "\n",
        "while i < 6: # laço que vai atuar enquanto o (i) for menor que 6\n",
        "  print(f\"This is cycle #{i + 1}\") #essa linha é para usar o i como noção das repetições do loop\n",
        "  print(f\"At the top i is {i}\") #deve imprimir que o valor do i conforme o loop é executado\n",
        "  numbers.append(i) #acrescenta esse valor de i a lista numbers\n",
        "\n",
        "  i = i + 1 #soma 1 ao valor do i que o código acabou de usar no loop\n",
        "  print(\"Number now: \", numbers) #ele vai imprimir a lista inteira disponível na etapa do ciclo while\n",
        "  print(f\"At the bottom i is {i}\") #deve imprimir o valor mais recente de i após a soma\n",
        "\n",
        "print(\"The numbers: \") # imprime a frase\n",
        "for num in numbers: #vai chamar cada elemento da lista\n",
        "  print(num) #imprime cada um desses elementos"
      ],
      "metadata": {
        "colab": {
          "base_uri": "https://localhost:8080/"
        },
        "id": "t7KmwtBFdCsQ",
        "outputId": "efdb93a8-6a20-47f3-daac-871fad28418d"
      },
      "execution_count": null,
      "outputs": [
        {
          "output_type": "stream",
          "name": "stdout",
          "text": [
            "This is cycle #1\n",
            "At the top i is 0\n",
            "Number now:  [0]\n",
            "At the bottom i is 1\n",
            "This is cycle #2\n",
            "At the top i is 1\n",
            "Number now:  [0, 1]\n",
            "At the bottom i is 2\n",
            "This is cycle #3\n",
            "At the top i is 2\n",
            "Number now:  [0, 1, 2]\n",
            "At the bottom i is 3\n",
            "This is cycle #4\n",
            "At the top i is 3\n",
            "Number now:  [0, 1, 2, 3]\n",
            "At the bottom i is 4\n",
            "This is cycle #5\n",
            "At the top i is 4\n",
            "Number now:  [0, 1, 2, 3, 4]\n",
            "At the bottom i is 5\n",
            "This is cycle #6\n",
            "At the top i is 5\n",
            "Number now:  [0, 1, 2, 3, 4, 5]\n",
            "At the bottom i is 6\n",
            "The numbers: \n",
            "0\n",
            "1\n",
            "2\n",
            "3\n",
            "4\n",
            "5\n"
          ]
        }
      ]
    },
    {
      "cell_type": "markdown",
      "source": [
        "### Novidades neste exercício\n",
        "\n",
        "* Uso do while para criar a lista com uma quantidade especificada de elementos\n"
      ],
      "metadata": {
        "id": "_uTqnKa0dJp7"
      }
    },
    {
      "cell_type": "markdown",
      "source": [
        "## EXERCÍCIO 18 - Nomes, variáveis, códigos, funções"
      ],
      "metadata": {
        "id": "HSmFXCzJdMIQ"
      }
    },
    {
      "cell_type": "code",
      "source": [
        "def print_two(*args): #criou o método print_two; o asterisco é para ele puxar os argumentos\n",
        "  arg1, arg2 = args # 'arg1' e 'arg2' são os argumentos\n",
        "  print(f\"arg1: {arg1}, arg2: {arg2}\") #vai imprimir os argumentos conforme adicionados ao chamar o método\n",
        "\n",
        "def print_two_again(arg1, arg2): #criou o método print_two_again\n",
        "  print(f\"arg1: {arg1}, arg2: {arg2}\") #se entregar argumentos diferentes para esse método, ele não vai alterar os argumentos do método print_two\n",
        "\n",
        "def print_one(arg1): #criou o método print_one\n",
        "  print(f\"arg1: {arg1}\") #vai imprimir o argumento disponível para o print_one\n",
        "\n",
        "def print_none(): #definiu o método print_none, que não pede argumentos\n",
        "  print(\"I got nothyin'.\") # mostra para o usuário\n",
        "\n",
        "print_two(\"Zed\", \"Shaw\") #chama o método, definindo os argumentos\n",
        "print_two_again(\"Bibi\", \"Frufru\")#chama o método, definindo o argumento\n",
        "print_one(\"First!\")#chama o método, definindo o argumento\n",
        "print_none()#chama o método, definindo o argumento"
      ],
      "metadata": {
        "colab": {
          "base_uri": "https://localhost:8080/"
        },
        "id": "H-0JvnEedUxE",
        "outputId": "f53e5cbb-770f-47c8-dc13-991b6918a1d5"
      },
      "execution_count": null,
      "outputs": [
        {
          "output_type": "stream",
          "name": "stdout",
          "text": [
            "arg1: Zed, arg2: Shaw\n",
            "arg1: Bibi, arg2: Frufru\n",
            "arg1: First!\n",
            "I got nothyin'.\n"
          ]
        }
      ]
    },
    {
      "cell_type": "markdown",
      "source": [
        "## EXERCÍCIO 19 - Funções e variáveis"
      ],
      "metadata": {
        "id": "n9PivqPkdZy-"
      }
    },
    {
      "cell_type": "code",
      "source": [
        "def cheese_and_crackers(cheese_count, boxes_of_crackers): #criou a função com 2 argumentos por conta da vírgula\n",
        "    print(f\"You have {cheese_count} cheeses!\") # mostra arg1\n",
        "    print(f\"You have {boxes_of_crackers} boxes of crackers!\") #mostra arg2\n",
        "    print(\"Man that's enough for a party!\") #mostra\n",
        "    print(\"Get a blanket.\\n\") #imprime\n",
        "\n",
        "\n",
        "print(\"We can just give the function numbers directly:\") #imprime\n",
        "cheese_and_crackers(20, 30) #chama a função diretamente com os valores\n",
        "\n",
        "\n",
        "print(\"OR, we can use variables from our script:\") # mostra como usar a função com combinação de variáveis\n",
        "amount_of_cheese = 10 #deu o valor\n",
        "amount_of_crackers = 50 #deu o valor\n",
        "\n",
        "cheese_and_crackers(amount_of_cheese, amount_of_crackers) #chamou o método atribuindo as variáveis aos argumentos\n",
        "\n",
        "\n",
        "print(\"We can even do math inside too:\") #imprime mostrando como usar soma para o valor dos atributos\n",
        "cheese_and_crackers(10 + 20, 5 + 6) #mostra que se pode escrever a soma\n",
        "\n",
        "\n",
        "print(\"And we can combine the two, variables and math:\") #imprime\n",
        "cheese_and_crackers(amount_of_cheese + 100, amount_of_crackers + 1000) #definiu os argumentos"
      ],
      "metadata": {
        "colab": {
          "base_uri": "https://localhost:8080/"
        },
        "id": "HZpiMJTDdjLM",
        "outputId": "0befa3ee-0609-4c4f-a014-0caa5a67d841"
      },
      "execution_count": null,
      "outputs": [
        {
          "output_type": "stream",
          "name": "stdout",
          "text": [
            "We can just give the function numbers directly:\n",
            "You have 20 cheeses!\n",
            "You have 30 boxes of crackers!\n",
            "Man that's enough for a party!\n",
            "Get a blanket.\n",
            "\n",
            "OR, we can use variables from our script:\n",
            "You have 10 cheeses!\n",
            "You have 50 boxes of crackers!\n",
            "Man that's enough for a party!\n",
            "Get a blanket.\n",
            "\n",
            "We can even do math inside too:\n",
            "You have 30 cheeses!\n",
            "You have 11 boxes of crackers!\n",
            "Man that's enough for a party!\n",
            "Get a blanket.\n",
            "\n",
            "And we can combine the two, variables and math:\n",
            "You have 110 cheeses!\n",
            "You have 1050 boxes of crackers!\n",
            "Man that's enough for a party!\n",
            "Get a blanket.\n",
            "\n"
          ]
        }
      ]
    },
    {
      "cell_type": "markdown",
      "source": [
        "## EXERCÍCIO 20 - As funções podem retornar algo"
      ],
      "metadata": {
        "id": "jC9DSF8QdmMK"
      }
    },
    {
      "cell_type": "code",
      "source": [
        "def add(a, b): #criou a função com a operação\n",
        "  print(f\"ADDING {a} + {b}\") #imprime que está somando\n",
        "  return a + b #salva o valor\n",
        "\n",
        "def subtract(a, b): #criou a função subtract\n",
        "  print(f\"SUBTRACTING {a} - {b}\") #vai imprimir a subtração de a - b\n",
        "  return a - b #salva o valor\n",
        "\n",
        "def multiply(a, b): #criou a função com a operação\n",
        "  print(f\"MULTIPLYING {a} * {b}\") #mostra que está multiplicando\n",
        "  return a * b #salva o valor\n",
        "\n",
        "def divide(a, b):#criou a função com a operação\n",
        "  print(f\"DIVIDING {a} / {b}\") #mostra que está dividindo\n",
        "  return a / b  #salva o valor\n",
        "\n",
        "print(\"Let's do some more math with just functions!\") # imprime\n",
        "\n",
        "age = add(30, 5) #puxa o método com os valores definidos para aplicar\n",
        "height = subtract(78, 4) #puxa o método com os valores definidos para aplicar\n",
        "weight = multiply(90, 2) #puxa o método com os valores definidos para aplicar\n",
        "iq = divide(100, 2) #puxa o método com os valores definidos para aplicar\n",
        "\n",
        "print(f\"Age: {age}, height: {height}, weight: {weight}, IQ: {iq}\") #vai puxar as respostas todas salvas\n",
        "\n",
        "print(\"Here is a puzzle.\") # mprime\n",
        "what = add(age, subtract(height, multiply(weight, divide(iq, 2))))\n",
        "#iq = 50; add(age, subtract(height, multiply(weight, divide(50, 2))))\n",
        "#divide(50, 2) = 25;\n",
        "#multiply(weight, 25) // weight = 90*2 = 180\n",
        "#subtract(height, 4500) = 74-4500 = -4426\n",
        "#add(35, 4426) = 4461\n",
        "print(\"That becomes: \", what, \"Can you do it by hand?\")"
      ],
      "metadata": {
        "colab": {
          "base_uri": "https://localhost:8080/"
        },
        "id": "HdCPGVlQd1Qx",
        "outputId": "148da54b-80b2-4673-d805-cc32a3bbc1e3"
      },
      "execution_count": null,
      "outputs": [
        {
          "output_type": "stream",
          "name": "stdout",
          "text": [
            "Let's do some more math with just functions!\n",
            "ADDING 30 + 5\n",
            "SUBTRACTING 78 - 4\n",
            "MULTIPLYING 90 * 2\n",
            "DIVIDING 100 / 2\n",
            "Age: 35, height: 74, weight: 180, IQ: 50.0\n",
            "Here is a puzzle.\n",
            "DIVIDING 50.0 / 2\n",
            "MULTIPLYING 180 * 25.0\n",
            "SUBTRACTING 74 - 4500.0\n",
            "ADDING 35 + -4426.0\n",
            "That becomes:  -4391.0 Can you do it by hand?\n"
          ]
        }
      ]
    },
    {
      "cell_type": "markdown",
      "source": [
        "## EXERCÍCIO 21 - Parâmetros, Descompactação e Variáveis"
      ],
      "metadata": {
        "id": "vyFv_sM2d2iF"
      }
    },
    {
      "cell_type": "code",
      "source": [
        "from sys import argv #importa biblioteca\n",
        "script, first, second, third = argv\n",
        "print(\"The script is called:\", script) #imprime\n",
        "print(\"Your fisrt variable is:\", first) #imprime\n",
        "print(\"Your second variable is:\", second) #imprime\n",
        "print(\"Your third variable is:\", third) #imprime"
      ],
      "metadata": {
        "colab": {
          "base_uri": "https://localhost:8080/",
          "height": 211
        },
        "id": "3IcvPeIUeIA-",
        "outputId": "c0c08a87-afd0-4d1d-913e-9529b8b4a168"
      },
      "execution_count": null,
      "outputs": [
        {
          "output_type": "error",
          "ename": "ValueError",
          "evalue": "not enough values to unpack (expected 4, got 3)",
          "traceback": [
            "\u001b[0;31m---------------------------------------------------------------------------\u001b[0m",
            "\u001b[0;31mValueError\u001b[0m                                Traceback (most recent call last)",
            "\u001b[0;32m<ipython-input-6-7a81890e4bf8>\u001b[0m in \u001b[0;36m<cell line: 0>\u001b[0;34m()\u001b[0m\n\u001b[1;32m      1\u001b[0m \u001b[0;32mfrom\u001b[0m \u001b[0msys\u001b[0m \u001b[0;32mimport\u001b[0m \u001b[0margv\u001b[0m \u001b[0;31m#importa biblioteca\u001b[0m\u001b[0;34m\u001b[0m\u001b[0;34m\u001b[0m\u001b[0m\n\u001b[0;32m----> 2\u001b[0;31m \u001b[0mscript\u001b[0m\u001b[0;34m,\u001b[0m \u001b[0mfirst\u001b[0m\u001b[0;34m,\u001b[0m \u001b[0msecond\u001b[0m\u001b[0;34m,\u001b[0m \u001b[0mthird\u001b[0m \u001b[0;34m=\u001b[0m \u001b[0margv\u001b[0m \u001b[0;31m#precisa ser: nome do programa + variáveis\u001b[0m\u001b[0;34m\u001b[0m\u001b[0;34m\u001b[0m\u001b[0m\n\u001b[0m\u001b[1;32m      3\u001b[0m \u001b[0;34m\u001b[0m\u001b[0m\n\u001b[1;32m      4\u001b[0m \u001b[0mprint\u001b[0m\u001b[0;34m(\u001b[0m\u001b[0;34m\"The script is called:\"\u001b[0m\u001b[0;34m,\u001b[0m \u001b[0mscript\u001b[0m\u001b[0;34m)\u001b[0m \u001b[0;31m#imprime\u001b[0m\u001b[0;34m\u001b[0m\u001b[0;34m\u001b[0m\u001b[0m\n\u001b[1;32m      5\u001b[0m \u001b[0mprint\u001b[0m\u001b[0;34m(\u001b[0m\u001b[0;34m\"Your fisrt variable is:\"\u001b[0m\u001b[0;34m,\u001b[0m \u001b[0mfirst\u001b[0m\u001b[0;34m)\u001b[0m \u001b[0;31m#imprime\u001b[0m\u001b[0;34m\u001b[0m\u001b[0;34m\u001b[0m\u001b[0m\n",
            "\u001b[0;31mValueError\u001b[0m: not enough values to unpack (expected 4, got 3)"
          ]
        }
      ]
    },
    {
      "cell_type": "markdown",
      "source": [
        "### Novidades neste exercício\n",
        "\n",
        "Importou a biblioteca argv, mas teve que escrever os valores no terminal pra rodar."
      ],
      "metadata": {
        "id": "F192b0-1eTUi"
      }
    },
    {
      "cell_type": "markdown",
      "source": [
        "## EXERCÍCIO 22 - Parâmetros, Descompactação e Variáveis"
      ],
      "metadata": {
        "id": "-yzyfbJWeW-0"
      }
    },
    {
      "cell_type": "code",
      "source": [
        "from sys import argv\n",
        "\n",
        "script, user_name = argv\n",
        "prompt = '> '\n",
        "\n",
        "print(f\"Hi {user_name}, I'm the {script} script.\")\n",
        "print(\"I'd like to ask you a few questions.\")\n",
        "print(f\"Do you like me {user_name}?\")\n",
        "likes = input(prompt)\n",
        "\n",
        "print(f\"Where do you live {user_name}?\")\n",
        "lives = input(prompt)\n",
        "\n",
        "print(\"What kind of computer do you have?\")\n",
        "computer = input(prompt)\n",
        "\n",
        "print(f\"\"\"\n",
        "Alright, so you said {likes} about liking me.\n",
        "You live in {lives}. Not sure where that is.\n",
        "And you have a {computer} computer. Nice.\n",
        "\"\"\")"
      ],
      "metadata": {
        "colab": {
          "base_uri": "https://localhost:8080/",
          "height": 211
        },
        "id": "UbZaJYJrebti",
        "outputId": "9eae533b-167c-418c-f0f5-5a592cdfa44a"
      },
      "execution_count": null,
      "outputs": [
        {
          "output_type": "error",
          "ename": "ValueError",
          "evalue": "too many values to unpack (expected 2)",
          "traceback": [
            "\u001b[0;31m---------------------------------------------------------------------------\u001b[0m",
            "\u001b[0;31mValueError\u001b[0m                                Traceback (most recent call last)",
            "\u001b[0;32m<ipython-input-7-24565ac7c893>\u001b[0m in \u001b[0;36m<cell line: 0>\u001b[0;34m()\u001b[0m\n\u001b[1;32m      1\u001b[0m \u001b[0;32mfrom\u001b[0m \u001b[0msys\u001b[0m \u001b[0;32mimport\u001b[0m \u001b[0margv\u001b[0m\u001b[0;34m\u001b[0m\u001b[0;34m\u001b[0m\u001b[0m\n\u001b[1;32m      2\u001b[0m \u001b[0;34m\u001b[0m\u001b[0m\n\u001b[0;32m----> 3\u001b[0;31m \u001b[0mscript\u001b[0m\u001b[0;34m,\u001b[0m \u001b[0muser_name\u001b[0m \u001b[0;34m=\u001b[0m \u001b[0margv\u001b[0m\u001b[0;34m\u001b[0m\u001b[0;34m\u001b[0m\u001b[0m\n\u001b[0m\u001b[1;32m      4\u001b[0m \u001b[0mprompt\u001b[0m \u001b[0;34m=\u001b[0m \u001b[0;34m'> '\u001b[0m\u001b[0;34m\u001b[0m\u001b[0;34m\u001b[0m\u001b[0m\n\u001b[1;32m      5\u001b[0m \u001b[0;34m\u001b[0m\u001b[0m\n",
            "\u001b[0;31mValueError\u001b[0m: too many values to unpack (expected 2)"
          ]
        }
      ]
    }
  ]
}