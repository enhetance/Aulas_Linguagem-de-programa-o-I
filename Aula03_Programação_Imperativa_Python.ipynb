{
  "nbformat": 4,
  "nbformat_minor": 0,
  "metadata": {
    "colab": {
      "provenance": [],
      "authorship_tag": "ABX9TyN3SQdCRAHTIBtWMXOzhFvF",
      "include_colab_link": true
    },
    "kernelspec": {
      "name": "python3",
      "display_name": "Python 3"
    },
    "language_info": {
      "name": "python"
    }
  },
  "cells": [
    {
      "cell_type": "markdown",
      "metadata": {
        "id": "view-in-github",
        "colab_type": "text"
      },
      "source": [
        "<a href=\"https://colab.research.google.com/github/enhetance/Aulas_Linguagem-de-programa-o-I/blob/main/Aula03_Programa%C3%A7%C3%A3o_Imperativa_Python.ipynb\" target=\"_parent\"><img src=\"https://colab.research.google.com/assets/colab-badge.svg\" alt=\"Open In Colab\"/></a>"
      ]
    },
    {
      "cell_type": "markdown",
      "source": [
        "# **Fundamentos da Linguagem Python**\n",
        "\n",
        "* Saber um puco mais sobre a linguagem Python e como configurá-la no seu computador;\n",
        "* Entender o que são expressões aritméticas, expressões lógicas e operadores;\n",
        "* Compreender o que são variáveis e como usá-las;\n",
        "* Saber o que são strings e como usá-las."
      ],
      "metadata": {
        "id": "0p-dzPFCU3dt"
      }
    },
    {
      "cell_type": "markdown",
      "source": [
        "## EXERCÍCIO 9 - Imprimindo, imprimindo, imprimindo"
      ],
      "metadata": {
        "id": "FruSRzOuVCUD"
      }
    },
    {
      "cell_type": "code",
      "execution_count": null,
      "metadata": {
        "colab": {
          "base_uri": "https://localhost:8080/"
        },
        "id": "ZUDPNs1kTpIU",
        "outputId": "65941799-3c1d-41e0-e4c8-55b697e237f2"
      },
      "outputs": [
        {
          "output_type": "stream",
          "name": "stdout",
          "text": [
            "Here are the day:  Mon Tue Wed Thu Fri Sat Sun\n",
            "Here are the months:  Jan\n",
            "Fev\n",
            "Mar\n",
            "Apr\n",
            "May\n",
            "Jun\n",
            "Jul\n",
            "Ago\n",
            "Sep\n",
            "Out\n",
            "Nov\n",
            "Dez\n",
            "\n",
            "There's something going on here.\n",
            "With the three double-quotes.\n",
            "We'll be able to type as much as we like.\n",
            "Even 4 line if we want, or 5, or 6.\n",
            "\n"
          ]
        }
      ],
      "source": [
        "days = \"Mon Tue Wed Thu Fri Sat Sun\" #vai ler como uma string numa linha só\n",
        "months = \"Jan\\nFev\\nMar\\nApr\\nMay\\nJun\\nJul\\nAgo\\nSep\\nOut\\nNov\\nDez\" #cada \\n vai quebrar uma linha\n",
        "\n",
        "print(\"Here are the day: \", days) #vai imprimir os dias\n",
        "print(\"Here are the months: \", months) #vai imprimir os meses um em cada linha\n",
        "\n",
        "print(\"\"\"\n",
        "There's something going on here.\n",
        "With the three double-quotes.\n",
        "We'll be able to type as much as we like.\n",
        "Even 4 line if we want, or 5, or 6.\n",
        "\"\"\") # as aspas triplas mantêm a quebra de linha como é escrita no código"
      ]
    },
    {
      "cell_type": "markdown",
      "source": [
        "### Novidades neste exercício\n",
        "\n",
        "1. Pular linhas dentro de uma variável\n",
        "\n",
        "` nomevariavel = \"texto\\ntexto\\ntexto`\n",
        "\n",
        "2. Impressão de várias linhas\n",
        "\n",
        "```\n",
        "\"\"\"\n",
        "linha 1 de texto\n",
        "linha 2 de texto...\n",
        "\"\"\"\n",
        "```\n"
      ],
      "metadata": {
        "id": "WMzrbp5XVl7q"
      }
    },
    {
      "cell_type": "markdown",
      "source": [
        "## EXERCÍCIO 10 - O que foi isso? *dúvida*"
      ],
      "metadata": {
        "id": "E3sJZ09bVniK"
      }
    },
    {
      "cell_type": "code",
      "source": [
        "tabby_cat = \"\\tI'm tabbed in.\"\n",
        "persian_cat = \"I'm split\\non a line.\" #podemos usar \\n em qualquer lugar da string\n",
        "backlash_cat = \"I'm \\ a \\ cat.\"\n",
        "\n",
        "fat_cat = \"\"\"\n",
        "I'll do a list:\n",
        "\\t* Cat food \\t*Fishies\n",
        "\\t* Catnip\\n\\t* Grass\n",
        "\"\"\" #vai imprimir o bloco de texto e ter a quebra de linha do \\n\n",
        "\n",
        "#mostrando tudo:\n",
        "print(tabby_cat)\n",
        "print(persian_cat)\n",
        "print(backlash_cat)\n",
        "print(fat_cat)\n"
      ],
      "metadata": {
        "colab": {
          "base_uri": "https://localhost:8080/"
        },
        "id": "rHNN3XFLVs4p",
        "outputId": "534b500a-c50e-4b9a-ddf9-c2ab38efb5d8"
      },
      "execution_count": null,
      "outputs": [
        {
          "output_type": "stream",
          "name": "stdout",
          "text": [
            "\tI'm tabbed in.\n",
            "I'm split\n",
            "on a line.\n",
            "I'm \\ a \\ cat.\n",
            "\n",
            "I'll do a list:\n",
            "\t* Cat food \t*Fishies\n",
            "\t* Catnip\n",
            "\t* Grass\n",
            "\n"
          ]
        }
      ]
    },
    {
      "cell_type": "markdown",
      "source": [
        "### Novidades neste exercício\n",
        "\n",
        "Tabulação - \\t\n",
        "\n",
        "``` \\ttexto tabulado ```\n",
        "\n",
        "A barra \" \\ \" se comporta diferente no código. Escrever uma barra na string imprime uma barra, escrever duas barras imprime uma barra.\n"
      ],
      "metadata": {
        "id": "-lvHMSfgWSEy"
      }
    },
    {
      "cell_type": "markdown",
      "source": [
        "## EXERCÍCIO 11 - Fazendo perguntas"
      ],
      "metadata": {
        "id": "L_JjkcjLWl6U"
      }
    },
    {
      "cell_type": "code",
      "source": [
        "print(\"How old are you?\", end= ' ') #vai aparecer a fase na tela\n",
        "age = input() #vai dar o espaço para inserir a resposta\n",
        "print(\"How tall are you?\", end= ' ') #outra pergunta na tela\n",
        "height = input() #a reposta já é atribuída a \"height\"\n",
        "print(\"How much do you weight?\", end=' ')\n",
        "weight = input() #dá o espapo e já atribui o valor a \"weight\"\n",
        "\n",
        "print(f\"So, you're {age} old, {height} tall and {weight} heavy.\") #vai imprimir tudo de uma vez, o 'f' é pra reconhecer o que é atributo na string\n",
        "\n"
      ],
      "metadata": {
        "colab": {
          "base_uri": "https://localhost:8080/"
        },
        "id": "5E8ETx0hWqrJ",
        "outputId": "a64ee5bb-6bf3-400c-da03-417906b41afd"
      },
      "execution_count": null,
      "outputs": [
        {
          "output_type": "stream",
          "name": "stdout",
          "text": [
            "How old are you? 19\n",
            "How tall are you? tall\n",
            "How much do you weight? 60\n",
            "So, you're 19 old, tall tall and 60 heavy.\n"
          ]
        }
      ]
    },
    {
      "cell_type": "markdown",
      "source": [
        "### Novidades neste exercício\n",
        "\n",
        "\"f\" para reconhecer os atributos na string na hora de imprimir\n"
      ],
      "metadata": {
        "id": "jwHuwrXnXJAN"
      }
    },
    {
      "cell_type": "markdown",
      "source": [
        "## EXERCÍCIO 12 - Perguntando as pessoas"
      ],
      "metadata": {
        "id": "A-VHDXMTXPc8"
      }
    },
    {
      "cell_type": "code",
      "source": [
        "age = input(\"How old are you? \") #mais um jeito de perguntar\n",
        "height = input(\"How tall are you? \") #mais um input de valor para o atributo 'height'\n",
        "weight = input(\"How much do you weigh? \") #outro input de valor para outro atributo\n",
        "\n",
        "print(f\"So, you're {age} old, {height} tall and {weight} heavy.\") #imprimir todos os atributos"
      ],
      "metadata": {
        "colab": {
          "base_uri": "https://localhost:8080/"
        },
        "id": "ibkt_4WMXVIV",
        "outputId": "0ed8792e-673b-4103-d053-bc49a0c8dc26"
      },
      "execution_count": null,
      "outputs": [
        {
          "output_type": "stream",
          "name": "stdout",
          "text": [
            "How old are you? 19\n",
            "How tall are you? 173cm\n",
            "How much do you weigh? 60kg\n",
            "So, you're 19 old, 173cm tall and 60kg heavy.\n"
          ]
        }
      ]
    },
    {
      "cell_type": "markdown",
      "source": [
        "## EXERCÍCIO 13 - Instrução IF *dúvida*"
      ],
      "metadata": {
        "id": "8LeoSAA4XnpU"
      }
    },
    {
      "cell_type": "code",
      "source": [
        "people = 20 #atribui valor à variável\n",
        "cats = 30 #atribui valor à variável\n",
        "dogs = 15 #atribui valor à variável\n",
        "\n",
        "if people < cats: #se atributo 1 'menor que' atributo 2, imprime a frase:\n",
        "  print(\"1 - Too many cats! The world is doomed!\")\n",
        "\n",
        "if people > cats: #se atributo 1 'maior que' atributo 2, imprime a frase:\n",
        "  print(\"2 - Not many cats! The world is saved!\")\n",
        "\n",
        "if people < dogs: #se atributo 1 'menor que' atributo 2, imprime a frase:\n",
        "  print(\"3 - Too world is drooled on!\")\n",
        "\n",
        "if people > dogs: #se atributo 1 'maior que' atributo 2, imprime a frase:\n",
        "  print(\"4 - The world is dry!\")\n",
        "\n",
        "dogs += 5 #deveria somar 5 ao valor a partir deste ponto\n",
        "\n",
        "if people >= dogs: #se atributo 1 'maior ou igual a' atributo 2, imprime a frase:\n",
        "  print(\"5 - People are greater than or equal to dogs.\")\n",
        "\n",
        "if people <= dogs: #se atributo 1 'menor ou igual a' atributo 2, imprime a frase:\n",
        "  print(\"6 - People are less than or equal to dogs.\")\n",
        "\n",
        "if people == dogs: #se atributo 1 igual a atributo 2, imprime a frase:\n",
        "  print(\"7 - People are dogs.\")"
      ],
      "metadata": {
        "colab": {
          "base_uri": "https://localhost:8080/"
        },
        "id": "kuyuX7IcXo8g",
        "outputId": "1847e23f-7f8b-457e-d45a-6845dab2b863"
      },
      "execution_count": null,
      "outputs": [
        {
          "output_type": "stream",
          "name": "stdout",
          "text": [
            "1 - Too many cats! The world is doomed!\n",
            "4 - The world is dry!\n",
            "5 - People are greater than or equal to dogs.\n",
            "6 - People are less than or equal to dogs.\n",
            "7 - People are dogs.\n"
          ]
        }
      ]
    },
    {
      "cell_type": "markdown",
      "source": [
        "## EXERCÍCIO 14 - Else e IF"
      ],
      "metadata": {
        "id": "sLEk14cpX2bE"
      }
    },
    {
      "cell_type": "code",
      "source": [
        "people = 30 #atribui valor\n",
        "cars = 40 #atribui valor\n",
        "trucks = 15 #atribui valor\n",
        "\n",
        "if cars > people: #comparação lógica\n",
        "  print(\"We should take the cars.\") #imprime se a comparação for verdadeira\n",
        "elif cars < people: #comparação lógica\n",
        "  print (\"We should not take the cars.\") #imprime se a comparação for verdadeira\n",
        "else: #caso nenhuma das operações lógicas anteriores seja verdadeira\n",
        "  print(\"We can't decide\") #imprime se a comparação for verdadeira\n",
        "\n",
        "if trucks > cars: #comparação lógica\n",
        "  print(\"Thats' too many trucks.\") #imprime se a comparação for verdadeira\n",
        "elif trucks < cars: #comparação lógica\n",
        "  print(\"Maybe we could take the trucks.\") #imprime se a comparação for verdadeira\n",
        "else: #caso nenhuma das operações lógicas anteriores seja verdadeira\n",
        "  print(\"We still can't decide.\") #imprime se a comparação for verdadeira\n",
        "\n",
        "if people > trucks: #comparação lógica\n",
        "  print(\"Alright, let's just take the trucks.\") #imprime se a comparação for verdadeira\n",
        "else: #caso nenhuma das operações lógicas anteriores seja verdadeira\n",
        "  print(\"Fine, let's stay home then.\") #imprime se a comparação for verdadeira"
      ],
      "metadata": {
        "colab": {
          "base_uri": "https://localhost:8080/"
        },
        "id": "jBf-1F91YCEU",
        "outputId": "c9f9af01-fe39-4d96-99d5-5840c25e8853"
      },
      "execution_count": null,
      "outputs": [
        {
          "output_type": "stream",
          "name": "stdout",
          "text": [
            "We should take the cars.\n",
            "Maybe we could take the trucks.\n",
            "Alright, let's just take the trucks.\n"
          ]
        }
      ]
    },
    {
      "cell_type": "markdown",
      "source": [
        "### Novidades neste exercício\n",
        "\n",
        " ELIF é a junção de if e else, geralmente usado no meio das duas sentenças e descição ELSE que é senão"
      ],
      "metadata": {
        "id": "8or6vkMQYPx9"
      }
    },
    {
      "cell_type": "markdown",
      "source": [
        "## EXERCÍCIO 15 - Tomando Decisões"
      ],
      "metadata": {
        "id": "QwBWFDFcYdJW"
      }
    },
    {
      "cell_type": "code",
      "source": [
        "print(\"\"\"You enter a dark room with two doors.\n",
        "Do you go through door #1 or door #2?\"\"\") #imprime na tela o contexto e opções\n",
        "\n",
        "door = input(\"> \") #insere a escolha\n",
        "\n",
        "if door == \"1\": #caso a resposta para 'door' tenha sido = 1\n",
        "  print(\"There's a giant bear here eating a cheesecake.\") #imprime a consequência da escolha\n",
        "  print(\"What do you do?\") #imprime contexto\n",
        "  print(\"1. Take the cake.\") #imprime opções\n",
        "  print(\"2. Scream at the bear.\") #imprime opções\n",
        "\n",
        "  bear = input(\"> \") #insere a escolha\n",
        "\n",
        "  if bear == \"1\": #caso a resposta tenha sido  1\n",
        "    print(\"The bear eats your face off. Good job!\") #imprime a consequência da escolha\n",
        "  elif bear == \"2\": #caso a resposta para 'bear' tenha sido  2\n",
        "    print(\"The bear eats your legs off. Good job!\") #imprime a consequência da escolha\n",
        "  else:#caso a resposta seja diferente de 1 ou 2\n",
        "    print(f\"Well, doing {bear} is probably better.\") #imprime a consequência da escolha\n",
        "    print(\"Bear runs away.\") #imprime a consequência da escolha\n",
        "\n",
        "elif door == \"2\": #caso a resposta tenha sido 2\n",
        "  print(\"You stare into the endless abyss at Ctchulhu's retina.\") #imprime a consequência da escolha\n",
        "  print(\"1. Blueberries\") #imprime opções\n",
        "  print(\"2. Yellow jacket clothespins.\") #imprime opções\n",
        "  print(\"3. Understanding revolvers yelling melodies.\") #imprime opções\n",
        "\n",
        "  insanity = input(\"> \") #insere a escolha\n",
        "\n",
        "  if insanity == \"1\" or insanity == \"2\": #caso a respostara tenha sido 1 OU 2\n",
        "    print(\"Your body survives powered by a mind of jello.\") #imprime a consequência da escolha\n",
        "    print(\"Good job\") #imprime a consequência da escolha\n",
        "  else: #caso a resposta  tenha sido DIFERENTE de 1 ou 2\n",
        "    print(\"The insanity rots your eyes into a pool of muck.\") #imprime a consequência da escolha\n",
        "    print(\"Good job!\") #imprime a consequência da escolha\n",
        "\n",
        "else: #caso a resposta  tenha sido diferente de 1 ou 2\n",
        "  print(\"You stumble around and fall on a knife and die. Good job!\") #imprime a consequência da escolha"
      ],
      "metadata": {
        "colab": {
          "base_uri": "https://localhost:8080/"
        },
        "id": "UspOPyIYYgsK",
        "outputId": "54a8ecb7-f43f-4448-b26f-e35b82beee84"
      },
      "execution_count": null,
      "outputs": [
        {
          "output_type": "stream",
          "name": "stdout",
          "text": [
            "You enter a dark room with two doors.\n",
            "Do you go through door #1 or door #2?\n",
            "> 1\n",
            "There's a giant bear here eating a cheesecake.\n",
            "What do you do?\n",
            "1. Take the cake.\n",
            "2. Scream at the bear.\n",
            "> 1\n",
            "The bear eats your face off. Good job!\n"
          ]
        }
      ]
    },
    {
      "cell_type": "markdown",
      "source": [
        "### Novidades neste exercício\n",
        "\n",
        "Apresentação de IF, ELIF e ELSE com a possibilidade de input para decidir caminhos do código.\n",
        "\n",
        "Como uma espécie de jogo mesmo."
      ],
      "metadata": {
        "id": "S9F7DF1rYttr"
      }
    }
  ]
}