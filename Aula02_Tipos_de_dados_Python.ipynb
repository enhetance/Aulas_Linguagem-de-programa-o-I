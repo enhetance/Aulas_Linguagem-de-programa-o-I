{
  "nbformat": 4,
  "nbformat_minor": 0,
  "metadata": {
    "colab": {
      "provenance": [],
      "authorship_tag": "ABX9TyNoTFkiSCk+epLm4E1PtAMi",
      "include_colab_link": true
    },
    "kernelspec": {
      "name": "python3",
      "display_name": "Python 3"
    },
    "language_info": {
      "name": "python"
    }
  },
  "cells": [
    {
      "cell_type": "markdown",
      "metadata": {
        "id": "view-in-github",
        "colab_type": "text"
      },
      "source": [
        "<a href=\"https://colab.research.google.com/github/enhetance/Aulas_Linguagem-de-programa-o-I/blob/main/Aula02_Tipos_de_dados_Python.ipynb\" target=\"_parent\"><img src=\"https://colab.research.google.com/assets/colab-badge.svg\" alt=\"Open In Colab\"/></a>"
      ]
    },
    {
      "cell_type": "markdown",
      "source": [
        "# Fundamentos da Linguagem Python\n",
        "\n",
        "* Saber um pouco mais sobre a linguagem Python e como configurá-la no seu computador.\n",
        "* Entender o que são expressões aritméticas, expressões lógicas e operadores;\n",
        "* Compreender o que são variáveis e como usá-las;\n",
        "* Saber o que são strings e como usá-las."
      ],
      "metadata": {
        "id": "KBEjfbUtSb1t"
      }
    },
    {
      "cell_type": "markdown",
      "source": [
        "## EXERCÍCIO 5 - Mais Variáveis e Impressão\n",
        "\n",
        "Concatenação de variáveis mais texto, uma forma de usar a saída de dados como variáveis."
      ],
      "metadata": {
        "id": "etgFtwaHSgnr"
      }
    },
    {
      "cell_type": "code",
      "execution_count": null,
      "metadata": {
        "colab": {
          "base_uri": "https://localhost:8080/"
        },
        "id": "YGOIJOwbReVu",
        "outputId": "72b5dc21-b0c4-4776-ec8c-befb3de4040b"
      },
      "outputs": [
        {
          "output_type": "stream",
          "name": "stdout",
          "text": [
            "Let's talk about Zed A. Shaw.\n",
            "He's 74 inches tall.\n",
            "He's 180 punds heavy.\n",
            "Actually that's not too heavy.\n",
            "He's got Blue eyes and Brown hair.\n",
            "His teeth are usually White depending on the coffee.\n",
            "If I add 35, 74 and my 180 I get 289.\n"
          ]
        }
      ],
      "source": [
        "Name = 'Zed A. Shaw'\n",
        "Age = 35\n",
        "Height = 74 #polegadas\n",
        "Weight = 180 #libras\n",
        "Eyes = 'Blue'\n",
        "Teeth = 'White'\n",
        "Hair = 'Brown'\n",
        "\n",
        "print(f\"Let's talk about {Name}.\")\n",
        "print(f\"He's {Height} inches tall.\")\n",
        "print(f\"He's {Weight} punds heavy.\")\n",
        "print(f\"Actually that's not too heavy.\")\n",
        "print(f\"He's got {Eyes} eyes and {Hair} hair.\")\n",
        "print(f\"His teeth are usually {Teeth} depending on the coffee.\")\n",
        "\n",
        "\n",
        "total = Age + Height + Weight\n",
        "print(f\"If I add {Age}, {Height} and my {Weight} I get {total}.\") #SyntaxError: f-string: single '}' is not allowed -> Height} - digitação"
      ]
    },
    {
      "cell_type": "markdown",
      "source": [
        "## EXERCÍCIO 6 - Strings e Texto\n",
        "\n",
        "Algumas variáveis, um pouco complexas e um pouco de trabalho com Strings dentro de Strings."
      ],
      "metadata": {
        "id": "uEpe-dT4Srb_"
      }
    },
    {
      "cell_type": "code",
      "source": [
        "#atribuição de inteiro em variável\n",
        "type_of_people = 10 #Erro: digitei \"type_of_peolple\" e causou erro na linha 4\n",
        "#atribuição de string com variável embutida\n",
        "x = f\"There are {type_of_people} types of people.\" #Erro: NameError: name 'type_of_people' is not defined\n",
        "#atribuição de valor textual a uma variável\n",
        "binary = \"binary\"\n",
        "#atribuição de valor textual a uma variável\n",
        "do_not = \"don't\"\n",
        "#atribuição de string com variável embutida\n",
        "y = f\"Those who know {binary} and those who {do_not}.\"\n",
        "\n",
        "print(x) #imprime o valor da variável\n",
        "print(y) #imprime o valor da variável\n",
        "\n",
        "print(f\"I said: {x}\") #imprime um texto com a variável embutida\n",
        "print(f\"I also said: '{y}'\")\n",
        "\n",
        "hilarious = False #criação de variável com valor booleano\n",
        "joke_evaluation = \"Isn't that joke so funny?! {}\" #criação de variável com texto e espaço para embutir a variável, sem definí-la\n",
        "\n",
        "print(joke_evaluation.format(hilarious)) #outra forma de imprimir a variável textual com a variável embutida ->> NOVIDADE\n",
        "print(joke_evaluation, hilarious) #teste para ver o que acontece\n",
        "w = \"This is left side of...\" #criação de variável com valor textual\n",
        "e = \"a string with a right side.\" #criação de variável com valor textual\n",
        "\n",
        "print(w + e) #concatena os valores textuais armazenados nas variáveis"
      ],
      "metadata": {
        "colab": {
          "base_uri": "https://localhost:8080/"
        },
        "id": "RLZJc-zBS240",
        "outputId": "34fb2611-1fc1-4982-b05e-840bbc2f2797"
      },
      "execution_count": null,
      "outputs": [
        {
          "output_type": "stream",
          "name": "stdout",
          "text": [
            "There are 10 types of people.\n",
            "Those who know binary and those who don't.\n",
            "I said: There are 10 types of people.\n",
            "I also said: 'Those who know binary and those who don't.'\n",
            "Isn't that joke so funny?! False\n",
            "Isn't that joke so funny?! {} False\n",
            "This is left side of...a string with a right side.\n"
          ]
        }
      ]
    },
    {
      "cell_type": "markdown",
      "source": [
        "## EXERCÍCIO 7 - Mais impressão\n",
        "\n",
        "Apenas para práticas a digitação e alguns conceitos sobre impressão de strings"
      ],
      "metadata": {
        "id": "UrulQb5WS6vM"
      }
    },
    {
      "cell_type": "code",
      "source": [
        "print(\"Mary had a little lamb.\") #imprime um texto fixo\n",
        "print(\"Its fleece was white as {}.\".format('snow')) #imprime um texto com espaço para mudar algo\n",
        "print(\"And everywhere that Mary went.\")#imprime um texto fixo\n",
        "print(\".\" * 10) #what's that do? imprime o ponto 10 vezes\n",
        "\n",
        "end1 = \"C\" #armazena dados textuais em variáveis\n",
        "end2 = \"h\"\n",
        "end3 = \"e\"\n",
        "end4 = \"e\"\n",
        "end5 = \"s\"\n",
        "end6 = \"e\"\n",
        "end7 = \"B\"\n",
        "end8 = \"u\"\n",
        "end9 = \"r\"\n",
        "end10 = \"g\"\n",
        "end11 = \"e\"\n",
        "end12 = \"r\"\n",
        "\n",
        "\n",
        "print(end1 + end2 + end3 + end4 + end5 + end6, end=' ')\n",
        "\n",
        "print(end7 + end8 + end9 + end10 + end11 + end12) #imprimir sem quebra de linha"
      ],
      "metadata": {
        "colab": {
          "base_uri": "https://localhost:8080/"
        },
        "id": "0aE32SKcS_WO",
        "outputId": "77fac4d2-ebcb-4c8d-f722-3713f29f9742"
      },
      "execution_count": null,
      "outputs": [
        {
          "output_type": "stream",
          "name": "stdout",
          "text": [
            "Mary had a little lamb.\n",
            "Its fleece was white as snow.\n",
            "And everywhere that Mary went.\n",
            "..........\n",
            "Cheese Burger\n"
          ]
        }
      ]
    },
    {
      "cell_type": "markdown",
      "source": [
        "##EXERCÍCIO 8 - Imprimindo, imprimindo\n",
        "\n",
        "Formatação de strings de forma mais complexa"
      ],
      "metadata": {
        "id": "PKGIvojPTLS3"
      }
    },
    {
      "cell_type": "code",
      "source": [
        "formatter = \"{} {} {} {}\"\n",
        "\n",
        "print(formatter.format(1, 2, 3, 4))\n",
        "print(formatter.format(\"one\", \"two\", \"three\", \"four\"))\n",
        "print(formatter.format(True, False, False, True))\n",
        "print(formatter.format(formatter, formatter, formatter, formatter))\n",
        "print(formatter.format(\n",
        "    \"Try you\",\n",
        "    \"Own Text here\",\n",
        "    \"Maybe a Poem\",\n",
        "    \"Or a song about fear\"\n",
        "))\n",
        "#o .format auxilia no modo como se misturam as variáveis umas dentro das outras"
      ],
      "metadata": {
        "colab": {
          "base_uri": "https://localhost:8080/"
        },
        "id": "00CukkjrTMbV",
        "outputId": "c99bd552-eade-4534-9821-33708ab0084e"
      },
      "execution_count": null,
      "outputs": [
        {
          "output_type": "stream",
          "name": "stdout",
          "text": [
            "1 2 3 4\n",
            "one two three four\n",
            "True False False True\n",
            "{} {} {} {} {} {} {} {} {} {} {} {} {} {} {} {}\n",
            "Try you Own Text here Maybe a Poem Or a song about fear\n"
          ]
        }
      ]
    }
  ]
}